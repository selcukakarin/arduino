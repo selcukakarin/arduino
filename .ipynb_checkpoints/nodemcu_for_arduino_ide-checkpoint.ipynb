{
 "cells": [
  {
   "cell_type": "markdown",
   "metadata": {},
   "source": [
    "## install nodemcu package to arduino ide"
   ]
  },
  {
   "cell_type": "markdown",
   "metadata": {},
   "source": [
    "[kaynak 1](https://www.youtube.com/watch?v=NEo1WsT5T7s&ab_channel=AntonyCartwright)\n",
    "\n",
    "[kaynak 2](https://drive.google.com/file/d/1mTShn5-RMxzaDt4DT25J5yBBxhFV-Trc/view?usp=sharing)\n",
    "\n",
    "[library](https://github.com/esp8266/arduino)"
   ]
  },
  {
   "cell_type": "code",
   "execution_count": null,
   "metadata": {},
   "outputs": [],
   "source": []
  }
 ],
 "metadata": {
  "kernelspec": {
   "display_name": "Python 3",
   "language": "python",
   "name": "python3"
  },
  "language_info": {
   "codemirror_mode": {
    "name": "ipython",
    "version": 3
   },
   "file_extension": ".py",
   "mimetype": "text/x-python",
   "name": "python",
   "nbconvert_exporter": "python",
   "pygments_lexer": "ipython3",
   "version": "3.6.5"
  }
 },
 "nbformat": 4,
 "nbformat_minor": 2
}
