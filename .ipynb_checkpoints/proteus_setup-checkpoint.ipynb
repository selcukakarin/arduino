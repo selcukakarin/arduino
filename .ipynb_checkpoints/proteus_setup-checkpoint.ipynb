{
 "cells": [
  {
   "cell_type": "markdown",
   "metadata": {},
   "source": [
    "## proteus setup and add arduino lib"
   ]
  },
  {
   "cell_type": "markdown",
   "metadata": {},
   "source": [
    "[Kaynak 1](https://www.youtube.com/watch?v=td4D7BzbX2Q&ab_channel=MehediHasanAsif)\n",
    "[Kaynak 2](https://drive.google.com/file/d/1x_gHeqZ-vzQyhbsDfgJo1hedIrn3xjkz/view?usp=sharing)\n",
    "[proteus_setup](https://drive.google.com/file/d/1TIz_z-8toPzQJKO0x4iF1KEi3TCeqvsD/view?usp=sharing)\n",
    "[arduino_lib](https://drive.google.com/file/d/14jaXf3bm9gB1KIQAgjp96IMmiIl0-taH/view?usp=sharing)"
   ]
  },
  {
   "cell_type": "code",
   "execution_count": null,
   "metadata": {},
   "outputs": [],
   "source": []
  }
 ],
 "metadata": {
  "kernelspec": {
   "display_name": "Python 3",
   "language": "python",
   "name": "python3"
  },
  "language_info": {
   "codemirror_mode": {
    "name": "ipython",
    "version": 3
   },
   "file_extension": ".py",
   "mimetype": "text/x-python",
   "name": "python",
   "nbconvert_exporter": "python",
   "pygments_lexer": "ipython3",
   "version": "3.6.5"
  }
 },
 "nbformat": 4,
 "nbformat_minor": 2
}
